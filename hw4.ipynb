{
 "cells": [
  {
   "cell_type": "code",
   "execution_count": 45,
   "source": [
    "# coding=utf-8\n",
    "import jieba \n",
    "from opencc import OpenCC\n",
    "cc = OpenCC('s2twp')\n",
    "import json\n",
    "import re\n",
    "def init():\n",
    "    #files = ['AA','AB','AC','AD','AE','AF','AG','AH','AI','AJ','AK','AL']\n",
    "    files = ['AA']\n",
    "    text = []\n",
    "    for fi in files:\n",
    "        for i in range(0, 1):\n",
    "            if i%20==0:\n",
    "                print('./wiki_zh/{}/wiki_{}'.format(fi,str(i).zfill(2)))\n",
    "            with open('./wiki_zh/{}/wiki_{}'.format(fi,str(i).zfill(2)),'r', encoding = 'utf-8') as file_open:\n",
    "                data = []\n",
    "                for line in file_open:\n",
    "                    data = json.loads(line)\n",
    "                    x = re.sub('\\s+','',cc.convert(data['text']))\n",
    "                    text.append(re.sub('[^\\u4e00-\\u9fa5]+','',x)+'\\n')\n",
    "\n",
    "    with open('output.txt', 'w+') as f:\n",
    "        for i in text:\n",
    "            f.write(i)\n",
    "    "
   ],
   "outputs": [],
   "metadata": {}
  },
  {
   "cell_type": "code",
   "execution_count": 46,
   "source": [
    "init()"
   ],
   "outputs": [
    {
     "output_type": "stream",
     "name": "stdout",
     "text": [
      "./wiki_zh/AA/wiki_00\n"
     ]
    }
   ],
   "metadata": {}
  },
  {
   "cell_type": "code",
   "execution_count": 47,
   "source": [
    "import logging\n",
    "\n",
    "logging.basicConfig(format='%(asctime)s : %(levelname)s : %(message)s', level=logging.INFO)\n",
    "jieba.set_dictionary('./dict.txt.big')\n",
    "stopword_set = set()\n",
    "with open('./stop_words.txt','r', encoding='utf-8') as stopwords:\n",
    "    for stopword in stopwords:\n",
    "        stopword_set.add(stopword.strip('\\n'))\n",
    "\n",
    "output = open('wiki_seg.txt', 'w', encoding='utf-8')\n",
    "with open('output.txt', 'r', encoding='utf-8') as content :\n",
    "    for texts_num, line in enumerate(content):\n",
    "        line = line.strip('\\n')\n",
    "        words = jieba.cut(line, cut_all=False)\n",
    "        for word in words:\n",
    "            if word not in stopword_set:\n",
    "                output.write(word + ' ')\n",
    "        output.write('\\n')\n",
    "\n",
    "        if (texts_num + 1) % 10000 == 0:\n",
    "            logging.info(\"已完成前 %d 行的斷詞\" % (texts_num + 1))\n",
    "output.close()"
   ],
   "outputs": [
    {
     "output_type": "stream",
     "name": "stderr",
     "text": [
      "Building prefix dict from /Users/zhangxinyu/Desktop/NLP_HW4/dict.txt.big ...\n",
      "2021-08-13 12:23:51,066 : DEBUG : Building prefix dict from /Users/zhangxinyu/Desktop/NLP_HW4/dict.txt.big ...\n",
      "Loading model from cache /var/folders/g9/__yhhv7d0xx59_jssnmpjhwh0000gn/T/jieba.ube3f6a8139837e1b741098a736f9c4d5.cache\n",
      "2021-08-13 12:23:51,069 : DEBUG : Loading model from cache /var/folders/g9/__yhhv7d0xx59_jssnmpjhwh0000gn/T/jieba.ube3f6a8139837e1b741098a736f9c4d5.cache\n",
      "Loading model cost 1.432 seconds.\n",
      "2021-08-13 12:23:52,501 : DEBUG : Loading model cost 1.432 seconds.\n",
      "Prefix dict has been built successfully.\n",
      "2021-08-13 12:23:52,502 : DEBUG : Prefix dict has been built successfully.\n"
     ]
    }
   ],
   "metadata": {}
  },
  {
   "cell_type": "code",
   "execution_count": 67,
   "source": [
    "# -*- coding: utf-8 -*-\n",
    "\n",
    "import logging\n",
    "#from gensim.models.word2vec import Word2Vec\n",
    "from gensim.models import word2vec\n",
    "\n",
    "def main():\n",
    "\n",
    "    logging.basicConfig(format='%(asctime)s : %(levelname)s : %(message)s', level=logging.INFO)\n",
    "    sentences = word2vec.LineSentence(\"wiki_seg.txt\")\n",
    "    model = word2vec.Word2Vec(sentences)\n",
    "\n",
    "    #保存模型，供日後使用\n",
    "    model.save(\"word2vec.model\")\n",
    "\n",
    "\n",
    "main()"
   ],
   "outputs": [
    {
     "output_type": "stream",
     "name": "stderr",
     "text": [
      "2021-08-13 12:45:29,440 : INFO : collecting all words and their counts\n",
      "2021-08-13 12:45:29,442 : INFO : PROGRESS: at sentence #0, processed 0 words, keeping 0 word types\n",
      "2021-08-13 12:45:29,491 : INFO : collected 24635 word types from a corpus of 138638 raw words and 68 sentences\n",
      "2021-08-13 12:45:29,492 : INFO : Creating a fresh vocabulary\n",
      "2021-08-13 12:45:29,521 : INFO : Word2Vec lifecycle event {'msg': 'effective_min_count=5 retains 4301 unique words (17.45889993911102%% of original 24635, drops 20334)', 'datetime': '2021-08-13T12:45:29.521173', 'gensim': '4.0.1', 'python': '3.7.6 (default, Apr 24 2021, 01:03:20) \\n[Clang 12.0.0 (clang-1200.0.32.29)]', 'platform': 'Darwin-20.5.0-x86_64-i386-64bit', 'event': 'prepare_vocab'}\n",
      "2021-08-13 12:45:29,522 : INFO : Word2Vec lifecycle event {'msg': 'effective_min_count=5 leaves 108371 word corpus (78.1683232591353%% of original 138638, drops 30267)', 'datetime': '2021-08-13T12:45:29.522683', 'gensim': '4.0.1', 'python': '3.7.6 (default, Apr 24 2021, 01:03:20) \\n[Clang 12.0.0 (clang-1200.0.32.29)]', 'platform': 'Darwin-20.5.0-x86_64-i386-64bit', 'event': 'prepare_vocab'}\n",
      "2021-08-13 12:45:29,557 : INFO : deleting the raw counts dictionary of 24635 items\n",
      "2021-08-13 12:45:29,559 : INFO : sample=0.001 downsamples 37 most-common words\n",
      "2021-08-13 12:45:29,560 : INFO : Word2Vec lifecycle event {'msg': 'downsampling leaves estimated 100629.86062085294 word corpus (92.9%% of prior 108371)', 'datetime': '2021-08-13T12:45:29.560637', 'gensim': '4.0.1', 'python': '3.7.6 (default, Apr 24 2021, 01:03:20) \\n[Clang 12.0.0 (clang-1200.0.32.29)]', 'platform': 'Darwin-20.5.0-x86_64-i386-64bit', 'event': 'prepare_vocab'}\n",
      "2021-08-13 12:45:29,619 : INFO : estimated required memory for 4301 words and 100 dimensions: 5591300 bytes\n",
      "2021-08-13 12:45:29,620 : INFO : resetting layer weights\n",
      "2021-08-13 12:45:29,623 : INFO : Word2Vec lifecycle event {'update': False, 'trim_rule': 'None', 'datetime': '2021-08-13T12:45:29.622967', 'gensim': '4.0.1', 'python': '3.7.6 (default, Apr 24 2021, 01:03:20) \\n[Clang 12.0.0 (clang-1200.0.32.29)]', 'platform': 'Darwin-20.5.0-x86_64-i386-64bit', 'event': 'build_vocab'}\n",
      "2021-08-13 12:45:29,624 : INFO : Word2Vec lifecycle event {'msg': 'training model with 3 workers on 4301 vocabulary and 100 features, using sg=0 hs=0 sample=0.001 negative=5 window=5', 'datetime': '2021-08-13T12:45:29.624051', 'gensim': '4.0.1', 'python': '3.7.6 (default, Apr 24 2021, 01:03:20) \\n[Clang 12.0.0 (clang-1200.0.32.29)]', 'platform': 'Darwin-20.5.0-x86_64-i386-64bit', 'event': 'train'}\n",
      "2021-08-13 12:45:29,711 : INFO : worker thread finished; awaiting finish of 2 more threads\n",
      "2021-08-13 12:45:29,713 : INFO : worker thread finished; awaiting finish of 1 more threads\n",
      "2021-08-13 12:45:29,718 : INFO : worker thread finished; awaiting finish of 0 more threads\n",
      "2021-08-13 12:45:29,719 : INFO : EPOCH - 1 : training on 138638 raw words (100702 effective words) took 0.1s, 1092612 effective words/s\n",
      "2021-08-13 12:45:29,795 : INFO : worker thread finished; awaiting finish of 2 more threads\n",
      "2021-08-13 12:45:29,796 : INFO : worker thread finished; awaiting finish of 1 more threads\n",
      "2021-08-13 12:45:29,801 : INFO : worker thread finished; awaiting finish of 0 more threads\n",
      "2021-08-13 12:45:29,801 : INFO : EPOCH - 2 : training on 138638 raw words (100692 effective words) took 0.1s, 1264301 effective words/s\n",
      "2021-08-13 12:45:29,875 : INFO : worker thread finished; awaiting finish of 2 more threads\n",
      "2021-08-13 12:45:29,877 : INFO : worker thread finished; awaiting finish of 1 more threads\n",
      "2021-08-13 12:45:29,883 : INFO : worker thread finished; awaiting finish of 0 more threads\n",
      "2021-08-13 12:45:29,884 : INFO : EPOCH - 3 : training on 138638 raw words (100609 effective words) took 0.1s, 1288359 effective words/s\n",
      "2021-08-13 12:45:29,960 : INFO : worker thread finished; awaiting finish of 2 more threads\n",
      "2021-08-13 12:45:29,961 : INFO : worker thread finished; awaiting finish of 1 more threads\n",
      "2021-08-13 12:45:29,968 : INFO : worker thread finished; awaiting finish of 0 more threads\n",
      "2021-08-13 12:45:29,969 : INFO : EPOCH - 4 : training on 138638 raw words (100650 effective words) took 0.1s, 1214623 effective words/s\n",
      "2021-08-13 12:45:30,060 : INFO : worker thread finished; awaiting finish of 2 more threads\n",
      "2021-08-13 12:45:30,061 : INFO : worker thread finished; awaiting finish of 1 more threads\n",
      "2021-08-13 12:45:30,067 : INFO : worker thread finished; awaiting finish of 0 more threads\n",
      "2021-08-13 12:45:30,068 : INFO : EPOCH - 5 : training on 138638 raw words (100601 effective words) took 0.1s, 1042184 effective words/s\n",
      "2021-08-13 12:45:30,069 : INFO : Word2Vec lifecycle event {'msg': 'training on 693190 raw words (503254 effective words) took 0.4s, 1132427 effective words/s', 'datetime': '2021-08-13T12:45:30.069273', 'gensim': '4.0.1', 'python': '3.7.6 (default, Apr 24 2021, 01:03:20) \\n[Clang 12.0.0 (clang-1200.0.32.29)]', 'platform': 'Darwin-20.5.0-x86_64-i386-64bit', 'event': 'train'}\n",
      "2021-08-13 12:45:30,071 : INFO : Word2Vec lifecycle event {'params': 'Word2Vec(vocab=4301, vector_size=100, alpha=0.025)', 'datetime': '2021-08-13T12:45:30.070926', 'gensim': '4.0.1', 'python': '3.7.6 (default, Apr 24 2021, 01:03:20) \\n[Clang 12.0.0 (clang-1200.0.32.29)]', 'platform': 'Darwin-20.5.0-x86_64-i386-64bit', 'event': 'created'}\n",
      "2021-08-13 12:45:30,072 : INFO : Word2Vec lifecycle event {'fname_or_handle': 'word2vec.model', 'separately': 'None', 'sep_limit': 10485760, 'ignore': frozenset(), 'datetime': '2021-08-13T12:45:30.072201', 'gensim': '4.0.1', 'python': '3.7.6 (default, Apr 24 2021, 01:03:20) \\n[Clang 12.0.0 (clang-1200.0.32.29)]', 'platform': 'Darwin-20.5.0-x86_64-i386-64bit', 'event': 'saving'}\n",
      "2021-08-13 12:45:30,073 : INFO : not storing attribute cum_table\n",
      "2021-08-13 12:45:30,082 : INFO : saved word2vec.model\n"
     ]
    }
   ],
   "metadata": {}
  },
  {
   "cell_type": "code",
   "execution_count": 68,
   "source": [
    "model = word2vec.Word2Vec.load(\"word2vec.model\")"
   ],
   "outputs": [
    {
     "output_type": "stream",
     "name": "stderr",
     "text": [
      "2021-08-13 12:45:35,014 : INFO : loading Word2Vec object from word2vec.model\n",
      "2021-08-13 12:45:35,020 : INFO : loading wv recursively from word2vec.model.wv.* with mmap=None\n",
      "2021-08-13 12:45:35,021 : INFO : setting ignored attribute cum_table to None\n",
      "2021-08-13 12:45:35,075 : INFO : Word2Vec lifecycle event {'fname': 'word2vec.model', 'datetime': '2021-08-13T12:45:35.075522', 'gensim': '4.0.1', 'python': '3.7.6 (default, Apr 24 2021, 01:03:20) \\n[Clang 12.0.0 (clang-1200.0.32.29)]', 'platform': 'Darwin-20.5.0-x86_64-i386-64bit', 'event': 'loaded'}\n"
     ]
    }
   ],
   "metadata": {}
  },
  {
   "cell_type": "code",
   "execution_count": 69,
   "source": [
    "word = model.wv.most_similar(u'電腦')\n",
    "for t in word:\n",
    "    print(t[0],t[1])"
   ],
   "outputs": [
    {
     "output_type": "stream",
     "name": "stdout",
     "text": [
      "領域 0.9986942410469055\n",
      "數學 0.9986240267753601\n",
      "科學 0.9985117316246033\n",
      "使用 0.9982022047042847\n",
      "系統 0.998188853263855\n",
      "理論 0.998132586479187\n",
      "作業系統 0.9980821013450623\n",
      "資訊 0.9980645775794983\n",
      "研究 0.9980592131614685\n",
      "學科 0.9980260133743286\n"
     ]
    }
   ],
   "metadata": {}
  }
 ],
 "metadata": {
  "orig_nbformat": 4,
  "language_info": {
   "name": "python",
   "version": "3.7.6",
   "mimetype": "text/x-python",
   "codemirror_mode": {
    "name": "ipython",
    "version": 3
   },
   "pygments_lexer": "ipython3",
   "nbconvert_exporter": "python",
   "file_extension": ".py"
  },
  "kernelspec": {
   "name": "python3",
   "display_name": "Python 3.7.6 64-bit ('3.7.6': pyenv)"
  },
  "interpreter": {
   "hash": "7fc41b1a7acd303dd356c32eae0bc8ee4149514fe8a099b2279ea3ac2a654e9b"
  }
 },
 "nbformat": 4,
 "nbformat_minor": 2
}