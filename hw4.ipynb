{
 "cells": [
  {
   "cell_type": "code",
   "execution_count": 27,
   "source": [
    "# coding=utf-8\n",
    "import jieba \n",
    "from opencc import OpenCC\n",
    "cc = OpenCC('s2twp')\n",
    "import json\n",
    "import re\n",
    "files = ['AA','AB','AC','AD','AE','AF','AG','AH','AI','AJ','AK','AL','AM']\n",
    "title = []\n",
    "text = []\n",
    "for fi in files:\n",
    "    with open('./wiki_zh/'+ fi +'/wiki_00','r', encoding = 'utf-8') as file_open:\n",
    "        data = []\n",
    "        for line in file_open:\n",
    "            data = json.loads(line)\n",
    "            title.append(cc.convert(data['title']))\n",
    "            text.append(re.sub('\\s+','',cc.convert(data['text'])))\n",
    "        print(title)\n",
    "\n",
    "    "
   ],
   "outputs": [
    {
     "output_type": "stream",
     "name": "stdout",
     "text": [
      "['數學', '哲學', '文學', '歷史', '電腦科學', '民族', '戲劇', '電影', '音樂', '經濟學', '政治學', '法學', '社會學', '軍事學', '資訊學', '物理學', '天文學', '力學', '化學', '地理學', '地質學', '氣象學', '生物學', '心理學', '中醫學', '海洋學', '水文學', '測繪學', '農業', '統一資源定位符', '計算', '資料結構', '設計模式', '中華人民共和國', '中國電腦科學大事年表', '克利斯登·奈加特', 'Self', 'Linux核心', '林納斯·託瓦茲', '理查德·斯托曼', '自由軟體基金會', '2003年7月', '孫中山', '作業系統', '作業系統列表', 'Linux', 'GNU計劃', '自由軟體運動', '材料科學', '諾貝爾獎', '植物學', '生命', 'Wiki', '程式設計', '計算機程式', '中國歷史', '亳州市', '計算機網路', '語言列表', '上海市', '史家', '開放原始碼', '計算數學', '高德納']\n"
     ]
    }
   ],
   "metadata": {}
  },
  {
   "cell_type": "code",
   "execution_count": 1,
   "source": [
    "# coding=utf-8\n",
    "import jieba \n",
    "from opencc import OpenCC\n",
    "cc = OpenCC('s2twp')\n",
    "import json\n",
    "import re\n",
    "files = ['AA','AB','AC','AD','AE','AF','AG','AH','AI','AJ','AK','AL']\n",
    "title = []\n",
    "text = []\n",
    "for fi in files:\n",
    "    for i in range(0, 1):\n",
    "        #if i%20==0:\n",
    "        print('./wiki_zh/{}/wiki_{}'.format(fi,str(i).zfill(2)))\n",
    "        with open('./wiki_zh/{}/wiki_{}'.format(fi,str(i).zfill(2)),'r', encoding = 'utf-8') as file_open:\n",
    "            data = []\n",
    "            for line in file_open:\n",
    "                data = json.loads(line)\n",
    "                title.append(cc.convert(data['title']))\n",
    "                text.append(re.sub('\\s+','',cc.convert(data['text'])))\n",
    "\n",
    "    "
   ],
   "outputs": [
    {
     "output_type": "stream",
     "name": "stdout",
     "text": [
      "./wiki_zh/AA/wiki_00\n",
      "./wiki_zh/AB/wiki_00\n",
      "./wiki_zh/AC/wiki_00\n",
      "./wiki_zh/AD/wiki_00\n",
      "./wiki_zh/AE/wiki_00\n",
      "./wiki_zh/AF/wiki_00\n",
      "./wiki_zh/AG/wiki_00\n",
      "./wiki_zh/AH/wiki_00\n",
      "./wiki_zh/AI/wiki_00\n",
      "./wiki_zh/AJ/wiki_00\n",
      "./wiki_zh/AK/wiki_00\n",
      "./wiki_zh/AL/wiki_00\n"
     ]
    }
   ],
   "metadata": {}
  },
  {
   "cell_type": "code",
   "execution_count": 21,
   "source": [
    "# coding=utf-8\n",
    "import jieba \n",
    "from opencc import OpenCC\n",
    "cc = OpenCC('s2twp')\n",
    "import json\n",
    "import re\n",
    "def init():\n",
    "    files = ['AA','AB','AC','AD','AE','AF','AG','AH','AI','AJ','AK','AL']\n",
    "    fil = ['AA']\n",
    "    text = []\n",
    "    for fi in files:\n",
    "        for i in range(0, 100):\n",
    "            if i%20==0:\n",
    "                print('./wiki_zh/{}/wiki_{}'.format(fi,str(i).zfill(2)))\n",
    "            with open('./wiki_zh/{}/wiki_{}'.format(fi,str(i).zfill(2)),'r', encoding = 'utf-8') as file_open:\n",
    "                data = []\n",
    "                for line in file_open:\n",
    "                    data = json.loads(line)\n",
    "                    text.append(re.sub('\\s+','',cc.convert(data['text'])))\n",
    "\n",
    "    with open('output.txt', 'w+') as f:\n",
    "        for i in text:\n",
    "            f.write(i)\n",
    "    "
   ],
   "outputs": [],
   "metadata": {}
  },
  {
   "cell_type": "code",
   "execution_count": 22,
   "source": [
    "init()"
   ],
   "outputs": [
    {
     "output_type": "stream",
     "name": "stdout",
     "text": [
      "./wiki_zh/AA/wiki_00\n",
      "./wiki_zh/AA/wiki_20\n",
      "./wiki_zh/AA/wiki_40\n",
      "./wiki_zh/AA/wiki_60\n",
      "./wiki_zh/AA/wiki_80\n",
      "./wiki_zh/AB/wiki_00\n",
      "./wiki_zh/AB/wiki_20\n",
      "./wiki_zh/AB/wiki_40\n",
      "./wiki_zh/AB/wiki_60\n",
      "./wiki_zh/AB/wiki_80\n",
      "./wiki_zh/AC/wiki_00\n",
      "./wiki_zh/AC/wiki_20\n",
      "./wiki_zh/AC/wiki_40\n",
      "./wiki_zh/AC/wiki_60\n",
      "./wiki_zh/AC/wiki_80\n",
      "./wiki_zh/AD/wiki_00\n",
      "./wiki_zh/AD/wiki_20\n",
      "./wiki_zh/AD/wiki_40\n",
      "./wiki_zh/AD/wiki_60\n",
      "./wiki_zh/AD/wiki_80\n",
      "./wiki_zh/AE/wiki_00\n",
      "./wiki_zh/AE/wiki_20\n",
      "./wiki_zh/AE/wiki_40\n",
      "./wiki_zh/AE/wiki_60\n",
      "./wiki_zh/AE/wiki_80\n",
      "./wiki_zh/AF/wiki_00\n",
      "./wiki_zh/AF/wiki_20\n",
      "./wiki_zh/AF/wiki_40\n",
      "./wiki_zh/AF/wiki_60\n",
      "./wiki_zh/AF/wiki_80\n",
      "./wiki_zh/AG/wiki_00\n",
      "./wiki_zh/AG/wiki_20\n",
      "./wiki_zh/AG/wiki_40\n",
      "./wiki_zh/AG/wiki_60\n",
      "./wiki_zh/AG/wiki_80\n",
      "./wiki_zh/AH/wiki_00\n",
      "./wiki_zh/AH/wiki_20\n",
      "./wiki_zh/AH/wiki_40\n",
      "./wiki_zh/AH/wiki_60\n",
      "./wiki_zh/AH/wiki_80\n",
      "./wiki_zh/AI/wiki_00\n",
      "./wiki_zh/AI/wiki_20\n",
      "./wiki_zh/AI/wiki_40\n",
      "./wiki_zh/AI/wiki_60\n",
      "./wiki_zh/AI/wiki_80\n",
      "./wiki_zh/AJ/wiki_00\n",
      "./wiki_zh/AJ/wiki_20\n",
      "./wiki_zh/AJ/wiki_40\n",
      "./wiki_zh/AJ/wiki_60\n",
      "./wiki_zh/AJ/wiki_80\n",
      "./wiki_zh/AK/wiki_00\n",
      "./wiki_zh/AK/wiki_20\n",
      "./wiki_zh/AK/wiki_40\n",
      "./wiki_zh/AK/wiki_60\n",
      "./wiki_zh/AK/wiki_80\n",
      "./wiki_zh/AL/wiki_00\n",
      "./wiki_zh/AL/wiki_20\n",
      "./wiki_zh/AL/wiki_40\n",
      "./wiki_zh/AL/wiki_60\n",
      "./wiki_zh/AL/wiki_80\n"
     ]
    }
   ],
   "metadata": {}
  }
 ],
 "metadata": {
  "orig_nbformat": 4,
  "language_info": {
   "name": "python",
   "version": "3.7.6",
   "mimetype": "text/x-python",
   "codemirror_mode": {
    "name": "ipython",
    "version": 3
   },
   "pygments_lexer": "ipython3",
   "nbconvert_exporter": "python",
   "file_extension": ".py"
  },
  "kernelspec": {
   "name": "python3",
   "display_name": "Python 3.7.6 64-bit ('3.7.6': pyenv)"
  },
  "interpreter": {
   "hash": "7fc41b1a7acd303dd356c32eae0bc8ee4149514fe8a099b2279ea3ac2a654e9b"
  }
 },
 "nbformat": 4,
 "nbformat_minor": 2
}